{
 "cells": [
  {
   "cell_type": "code",
   "execution_count": 11,
   "metadata": {},
   "outputs": [
    {
     "name": "stdout",
     "output_type": "stream",
     "text": [
      "Requirement already satisfied: mlflow in c:\\users\\pc\\documents\\mlopsprojet\\ganf\\lib\\site-packages (2.21.0)\n",
      "Requirement already satisfied: mlflow-skinny==2.21.0 in c:\\users\\pc\\documents\\mlopsprojet\\ganf\\lib\\site-packages (from mlflow) (2.21.0)\n",
      "Requirement already satisfied: Flask<4 in c:\\users\\pc\\documents\\mlopsprojet\\ganf\\lib\\site-packages (from mlflow) (3.1.0)\n",
      "Requirement already satisfied: Jinja2<4,>=3.0 in c:\\users\\pc\\documents\\mlopsprojet\\ganf\\lib\\site-packages (from mlflow) (3.1.6)\n",
      "Requirement already satisfied: alembic!=1.10.0,<2 in c:\\users\\pc\\documents\\mlopsprojet\\ganf\\lib\\site-packages (from mlflow) (1.15.1)\n",
      "Requirement already satisfied: docker<8,>=4.0.0 in c:\\users\\pc\\documents\\mlopsprojet\\ganf\\lib\\site-packages (from mlflow) (7.1.0)\n",
      "Requirement already satisfied: graphene<4 in c:\\users\\pc\\documents\\mlopsprojet\\ganf\\lib\\site-packages (from mlflow) (3.4.3)\n",
      "Requirement already satisfied: markdown<4,>=3.3 in c:\\users\\pc\\documents\\mlopsprojet\\ganf\\lib\\site-packages (from mlflow) (3.7)\n",
      "Requirement already satisfied: matplotlib<4 in c:\\users\\pc\\documents\\mlopsprojet\\ganf\\lib\\site-packages (from mlflow) (3.9.4)\n",
      "Requirement already satisfied: numpy<3 in c:\\users\\pc\\documents\\mlopsprojet\\ganf\\lib\\site-packages (from mlflow) (2.0.2)\n",
      "Requirement already satisfied: pandas<3 in c:\\users\\pc\\documents\\mlopsprojet\\ganf\\lib\\site-packages (from mlflow) (2.2.3)\n",
      "Requirement already satisfied: pyarrow<20,>=4.0.0 in c:\\users\\pc\\documents\\mlopsprojet\\ganf\\lib\\site-packages (from mlflow) (19.0.1)\n",
      "Requirement already satisfied: scikit-learn<2 in c:\\users\\pc\\documents\\mlopsprojet\\ganf\\lib\\site-packages (from mlflow) (1.6.1)\n",
      "Requirement already satisfied: scipy<2 in c:\\users\\pc\\documents\\mlopsprojet\\ganf\\lib\\site-packages (from mlflow) (1.13.1)\n",
      "Requirement already satisfied: sqlalchemy<3,>=1.4.0 in c:\\users\\pc\\documents\\mlopsprojet\\ganf\\lib\\site-packages (from mlflow) (2.0.39)\n",
      "Requirement already satisfied: waitress<4 in c:\\users\\pc\\documents\\mlopsprojet\\ganf\\lib\\site-packages (from mlflow) (3.0.2)\n",
      "Requirement already satisfied: cachetools<6,>=5.0.0 in c:\\users\\pc\\documents\\mlopsprojet\\ganf\\lib\\site-packages (from mlflow-skinny==2.21.0->mlflow) (5.5.2)\n",
      "Requirement already satisfied: click<9,>=7.0 in c:\\users\\pc\\documents\\mlopsprojet\\ganf\\lib\\site-packages (from mlflow-skinny==2.21.0->mlflow) (8.1.8)\n",
      "Requirement already satisfied: cloudpickle<4 in c:\\users\\pc\\documents\\mlopsprojet\\ganf\\lib\\site-packages (from mlflow-skinny==2.21.0->mlflow) (3.1.1)\n",
      "Requirement already satisfied: databricks-sdk<1,>=0.20.0 in c:\\users\\pc\\documents\\mlopsprojet\\ganf\\lib\\site-packages (from mlflow-skinny==2.21.0->mlflow) (0.47.0)\n",
      "Requirement already satisfied: fastapi<1 in c:\\users\\pc\\documents\\mlopsprojet\\ganf\\lib\\site-packages (from mlflow-skinny==2.21.0->mlflow) (0.115.12)\n",
      "Requirement already satisfied: gitpython<4,>=3.1.9 in c:\\users\\pc\\documents\\mlopsprojet\\ganf\\lib\\site-packages (from mlflow-skinny==2.21.0->mlflow) (3.1.44)\n",
      "Requirement already satisfied: importlib_metadata!=4.7.0,<9,>=3.7.0 in c:\\users\\pc\\documents\\mlopsprojet\\ganf\\lib\\site-packages (from mlflow-skinny==2.21.0->mlflow) (8.6.1)\n",
      "Requirement already satisfied: opentelemetry-api<3,>=1.9.0 in c:\\users\\pc\\documents\\mlopsprojet\\ganf\\lib\\site-packages (from mlflow-skinny==2.21.0->mlflow) (1.31.1)\n",
      "Requirement already satisfied: opentelemetry-sdk<3,>=1.9.0 in c:\\users\\pc\\documents\\mlopsprojet\\ganf\\lib\\site-packages (from mlflow-skinny==2.21.0->mlflow) (1.31.1)\n",
      "Requirement already satisfied: packaging<25 in c:\\users\\pc\\documents\\mlopsprojet\\ganf\\lib\\site-packages (from mlflow-skinny==2.21.0->mlflow) (24.2)\n",
      "Requirement already satisfied: protobuf<6,>=3.12.0 in c:\\users\\pc\\documents\\mlopsprojet\\ganf\\lib\\site-packages (from mlflow-skinny==2.21.0->mlflow) (5.29.4)\n",
      "Requirement already satisfied: pydantic<3,>=1.10.8 in c:\\users\\pc\\documents\\mlopsprojet\\ganf\\lib\\site-packages (from mlflow-skinny==2.21.0->mlflow) (2.10.6)\n",
      "Requirement already satisfied: pyyaml<7,>=5.1 in c:\\users\\pc\\documents\\mlopsprojet\\ganf\\lib\\site-packages (from mlflow-skinny==2.21.0->mlflow) (6.0.2)\n",
      "Requirement already satisfied: requests<3,>=2.17.3 in c:\\users\\pc\\documents\\mlopsprojet\\ganf\\lib\\site-packages (from mlflow-skinny==2.21.0->mlflow) (2.32.3)\n",
      "Requirement already satisfied: sqlparse<1,>=0.4.0 in c:\\users\\pc\\documents\\mlopsprojet\\ganf\\lib\\site-packages (from mlflow-skinny==2.21.0->mlflow) (0.5.3)\n",
      "Requirement already satisfied: typing-extensions<5,>=4.0.0 in c:\\users\\pc\\documents\\mlopsprojet\\ganf\\lib\\site-packages (from mlflow-skinny==2.21.0->mlflow) (4.12.2)\n",
      "Requirement already satisfied: uvicorn<1 in c:\\users\\pc\\documents\\mlopsprojet\\ganf\\lib\\site-packages (from mlflow-skinny==2.21.0->mlflow) (0.34.0)\n",
      "Requirement already satisfied: Mako in c:\\users\\pc\\documents\\mlopsprojet\\ganf\\lib\\site-packages (from alembic!=1.10.0,<2->mlflow) (1.3.9)\n",
      "Requirement already satisfied: pywin32>=304 in c:\\users\\pc\\documents\\mlopsprojet\\ganf\\lib\\site-packages (from docker<8,>=4.0.0->mlflow) (310)\n",
      "Requirement already satisfied: urllib3>=1.26.0 in c:\\users\\pc\\documents\\mlopsprojet\\ganf\\lib\\site-packages (from docker<8,>=4.0.0->mlflow) (2.3.0)\n",
      "Requirement already satisfied: Werkzeug>=3.1 in c:\\users\\pc\\documents\\mlopsprojet\\ganf\\lib\\site-packages (from Flask<4->mlflow) (3.1.3)\n",
      "Requirement already satisfied: itsdangerous>=2.2 in c:\\users\\pc\\documents\\mlopsprojet\\ganf\\lib\\site-packages (from Flask<4->mlflow) (2.2.0)\n",
      "Requirement already satisfied: blinker>=1.9 in c:\\users\\pc\\documents\\mlopsprojet\\ganf\\lib\\site-packages (from Flask<4->mlflow) (1.9.0)\n",
      "Requirement already satisfied: graphql-core<3.3,>=3.1 in c:\\users\\pc\\documents\\mlopsprojet\\ganf\\lib\\site-packages (from graphene<4->mlflow) (3.2.6)\n",
      "Requirement already satisfied: graphql-relay<3.3,>=3.1 in c:\\users\\pc\\documents\\mlopsprojet\\ganf\\lib\\site-packages (from graphene<4->mlflow) (3.2.0)\n",
      "Requirement already satisfied: python-dateutil<3,>=2.7.0 in c:\\users\\pc\\documents\\mlopsprojet\\ganf\\lib\\site-packages (from graphene<4->mlflow) (2.9.0.post0)\n",
      "Requirement already satisfied: MarkupSafe>=2.0 in c:\\users\\pc\\documents\\mlopsprojet\\ganf\\lib\\site-packages (from Jinja2<4,>=3.0->mlflow) (3.0.2)\n",
      "Requirement already satisfied: contourpy>=1.0.1 in c:\\users\\pc\\documents\\mlopsprojet\\ganf\\lib\\site-packages (from matplotlib<4->mlflow) (1.3.0)\n",
      "Requirement already satisfied: cycler>=0.10 in c:\\users\\pc\\documents\\mlopsprojet\\ganf\\lib\\site-packages (from matplotlib<4->mlflow) (0.12.1)\n",
      "Requirement already satisfied: fonttools>=4.22.0 in c:\\users\\pc\\documents\\mlopsprojet\\ganf\\lib\\site-packages (from matplotlib<4->mlflow) (4.56.0)\n",
      "Requirement already satisfied: kiwisolver>=1.3.1 in c:\\users\\pc\\documents\\mlopsprojet\\ganf\\lib\\site-packages (from matplotlib<4->mlflow) (1.4.7)\n",
      "Requirement already satisfied: pillow>=8 in c:\\users\\pc\\documents\\mlopsprojet\\ganf\\lib\\site-packages (from matplotlib<4->mlflow) (11.1.0)\n",
      "Requirement already satisfied: pyparsing>=2.3.1 in c:\\users\\pc\\documents\\mlopsprojet\\ganf\\lib\\site-packages (from matplotlib<4->mlflow) (3.2.3)\n",
      "Requirement already satisfied: importlib-resources>=3.2.0 in c:\\users\\pc\\documents\\mlopsprojet\\ganf\\lib\\site-packages (from matplotlib<4->mlflow) (6.5.2)\n",
      "Requirement already satisfied: pytz>=2020.1 in c:\\users\\pc\\documents\\mlopsprojet\\ganf\\lib\\site-packages (from pandas<3->mlflow) (2025.2)\n",
      "Requirement already satisfied: tzdata>=2022.7 in c:\\users\\pc\\documents\\mlopsprojet\\ganf\\lib\\site-packages (from pandas<3->mlflow) (2025.2)\n",
      "Requirement already satisfied: joblib>=1.2.0 in c:\\users\\pc\\documents\\mlopsprojet\\ganf\\lib\\site-packages (from scikit-learn<2->mlflow) (1.4.2)\n",
      "Requirement already satisfied: threadpoolctl>=3.1.0 in c:\\users\\pc\\documents\\mlopsprojet\\ganf\\lib\\site-packages (from scikit-learn<2->mlflow) (3.6.0)\n",
      "Requirement already satisfied: greenlet!=0.4.17 in c:\\users\\pc\\documents\\mlopsprojet\\ganf\\lib\\site-packages (from sqlalchemy<3,>=1.4.0->mlflow) (3.1.1)\n",
      "Requirement already satisfied: colorama in c:\\users\\pc\\documents\\mlopsprojet\\ganf\\lib\\site-packages (from click<9,>=7.0->mlflow-skinny==2.21.0->mlflow) (0.4.6)\n",
      "Requirement already satisfied: google-auth~=2.0 in c:\\users\\pc\\documents\\mlopsprojet\\ganf\\lib\\site-packages (from databricks-sdk<1,>=0.20.0->mlflow-skinny==2.21.0->mlflow) (2.38.0)\n",
      "Requirement already satisfied: starlette<0.47.0,>=0.40.0 in c:\\users\\pc\\documents\\mlopsprojet\\ganf\\lib\\site-packages (from fastapi<1->mlflow-skinny==2.21.0->mlflow) (0.46.1)\n",
      "Requirement already satisfied: gitdb<5,>=4.0.1 in c:\\users\\pc\\documents\\mlopsprojet\\ganf\\lib\\site-packages (from gitpython<4,>=3.1.9->mlflow-skinny==2.21.0->mlflow) (4.0.12)\n",
      "Requirement already satisfied: zipp>=3.20 in c:\\users\\pc\\documents\\mlopsprojet\\ganf\\lib\\site-packages (from importlib_metadata!=4.7.0,<9,>=3.7.0->mlflow-skinny==2.21.0->mlflow) (3.21.0)\n",
      "Requirement already satisfied: deprecated>=1.2.6 in c:\\users\\pc\\documents\\mlopsprojet\\ganf\\lib\\site-packages (from opentelemetry-api<3,>=1.9.0->mlflow-skinny==2.21.0->mlflow) (1.2.18)\n",
      "Requirement already satisfied: opentelemetry-semantic-conventions==0.52b1 in c:\\users\\pc\\documents\\mlopsprojet\\ganf\\lib\\site-packages (from opentelemetry-sdk<3,>=1.9.0->mlflow-skinny==2.21.0->mlflow) (0.52b1)\n",
      "Requirement already satisfied: annotated-types>=0.6.0 in c:\\users\\pc\\documents\\mlopsprojet\\ganf\\lib\\site-packages (from pydantic<3,>=1.10.8->mlflow-skinny==2.21.0->mlflow) (0.7.0)\n",
      "Requirement already satisfied: pydantic-core==2.27.2 in c:\\users\\pc\\documents\\mlopsprojet\\ganf\\lib\\site-packages (from pydantic<3,>=1.10.8->mlflow-skinny==2.21.0->mlflow) (2.27.2)\n",
      "Requirement already satisfied: six>=1.5 in c:\\users\\pc\\documents\\mlopsprojet\\ganf\\lib\\site-packages (from python-dateutil<3,>=2.7.0->graphene<4->mlflow) (1.17.0)\n",
      "Requirement already satisfied: charset-normalizer<4,>=2 in c:\\users\\pc\\documents\\mlopsprojet\\ganf\\lib\\site-packages (from requests<3,>=2.17.3->mlflow-skinny==2.21.0->mlflow) (3.4.1)\n",
      "Requirement already satisfied: idna<4,>=2.5 in c:\\users\\pc\\documents\\mlopsprojet\\ganf\\lib\\site-packages (from requests<3,>=2.17.3->mlflow-skinny==2.21.0->mlflow) (3.10)\n",
      "Requirement already satisfied: certifi>=2017.4.17 in c:\\users\\pc\\documents\\mlopsprojet\\ganf\\lib\\site-packages (from requests<3,>=2.17.3->mlflow-skinny==2.21.0->mlflow) (2025.1.31)\n",
      "Requirement already satisfied: h11>=0.8 in c:\\users\\pc\\documents\\mlopsprojet\\ganf\\lib\\site-packages (from uvicorn<1->mlflow-skinny==2.21.0->mlflow) (0.14.0)\n",
      "Requirement already satisfied: wrapt<2,>=1.10 in c:\\users\\pc\\documents\\mlopsprojet\\ganf\\lib\\site-packages (from deprecated>=1.2.6->opentelemetry-api<3,>=1.9.0->mlflow-skinny==2.21.0->mlflow) (1.17.2)\n",
      "Requirement already satisfied: smmap<6,>=3.0.1 in c:\\users\\pc\\documents\\mlopsprojet\\ganf\\lib\\site-packages (from gitdb<5,>=4.0.1->gitpython<4,>=3.1.9->mlflow-skinny==2.21.0->mlflow) (5.0.2)\n",
      "Requirement already satisfied: pyasn1-modules>=0.2.1 in c:\\users\\pc\\documents\\mlopsprojet\\ganf\\lib\\site-packages (from google-auth~=2.0->databricks-sdk<1,>=0.20.0->mlflow-skinny==2.21.0->mlflow) (0.4.1)\n",
      "Requirement already satisfied: rsa<5,>=3.1.4 in c:\\users\\pc\\documents\\mlopsprojet\\ganf\\lib\\site-packages (from google-auth~=2.0->databricks-sdk<1,>=0.20.0->mlflow-skinny==2.21.0->mlflow) (4.9)\n",
      "Requirement already satisfied: anyio<5,>=3.6.2 in c:\\users\\pc\\documents\\mlopsprojet\\ganf\\lib\\site-packages (from starlette<0.47.0,>=0.40.0->fastapi<1->mlflow-skinny==2.21.0->mlflow) (4.9.0)\n",
      "Requirement already satisfied: exceptiongroup>=1.0.2 in c:\\users\\pc\\documents\\mlopsprojet\\ganf\\lib\\site-packages (from anyio<5,>=3.6.2->starlette<0.47.0,>=0.40.0->fastapi<1->mlflow-skinny==2.21.0->mlflow) (1.2.2)\n",
      "Requirement already satisfied: sniffio>=1.1 in c:\\users\\pc\\documents\\mlopsprojet\\ganf\\lib\\site-packages (from anyio<5,>=3.6.2->starlette<0.47.0,>=0.40.0->fastapi<1->mlflow-skinny==2.21.0->mlflow) (1.3.1)\n",
      "Requirement already satisfied: pyasn1<0.7.0,>=0.4.6 in c:\\users\\pc\\documents\\mlopsprojet\\ganf\\lib\\site-packages (from pyasn1-modules>=0.2.1->google-auth~=2.0->databricks-sdk<1,>=0.20.0->mlflow-skinny==2.21.0->mlflow) (0.6.1)\n",
      "Requirement already satisfied: jinja2 in c:\\users\\pc\\documents\\mlopsprojet\\ganf\\lib\\site-packages (3.1.6)\n",
      "Requirement already satisfied: MarkupSafe>=2.0 in c:\\users\\pc\\documents\\mlopsprojet\\ganf\\lib\\site-packages (from jinja2) (3.0.2)\n",
      "Requirement already satisfied: Flask in c:\\users\\pc\\documents\\mlopsprojet\\ganf\\lib\\site-packages (3.1.0)\n",
      "Requirement already satisfied: Werkzeug>=3.1 in c:\\users\\pc\\documents\\mlopsprojet\\ganf\\lib\\site-packages (from Flask) (3.1.3)\n",
      "Requirement already satisfied: Jinja2>=3.1.2 in c:\\users\\pc\\documents\\mlopsprojet\\ganf\\lib\\site-packages (from Flask) (3.1.6)\n",
      "Requirement already satisfied: itsdangerous>=2.2 in c:\\users\\pc\\documents\\mlopsprojet\\ganf\\lib\\site-packages (from Flask) (2.2.0)\n",
      "Requirement already satisfied: click>=8.1.3 in c:\\users\\pc\\documents\\mlopsprojet\\ganf\\lib\\site-packages (from Flask) (8.1.8)\n",
      "Requirement already satisfied: blinker>=1.9 in c:\\users\\pc\\documents\\mlopsprojet\\ganf\\lib\\site-packages (from Flask) (1.9.0)\n",
      "Requirement already satisfied: importlib-metadata>=3.6 in c:\\users\\pc\\documents\\mlopsprojet\\ganf\\lib\\site-packages (from Flask) (8.6.1)\n",
      "Requirement already satisfied: colorama in c:\\users\\pc\\documents\\mlopsprojet\\ganf\\lib\\site-packages (from click>=8.1.3->Flask) (0.4.6)\n",
      "Requirement already satisfied: zipp>=3.20 in c:\\users\\pc\\documents\\mlopsprojet\\ganf\\lib\\site-packages (from importlib-metadata>=3.6->Flask) (3.21.0)\n",
      "Requirement already satisfied: MarkupSafe>=2.0 in c:\\users\\pc\\documents\\mlopsprojet\\ganf\\lib\\site-packages (from Jinja2>=3.1.2->Flask) (3.0.2)\n",
      "Requirement already satisfied: setuptools in c:\\users\\pc\\documents\\mlopsprojet\\ganf\\lib\\site-packages (56.0.0)\n"
     ]
    }
   ],
   "source": [
    "!pip install mlflow\n",
    "!pip install --upgrade jinja2\n",
    "!pip install --upgrade Flask\n",
    "!pip install setuptools\n"
   ]
  },
  {
   "cell_type": "code",
   "execution_count": null,
   "metadata": {},
   "outputs": [],
   "source": [
    "!mlflow server --host 127.0.0.1 --port 8080\n"
   ]
  },
  {
   "cell_type": "code",
   "execution_count": 22,
   "metadata": {},
   "outputs": [],
   "source": [
    "from mlflow import MlflowClient\n",
    "from pprint import pprint\n",
    "from sklearn.ensemble import RandomForestRegressor\n"
   ]
  },
  {
   "cell_type": "code",
   "execution_count": 23,
   "metadata": {},
   "outputs": [],
   "source": [
    "# In order to connect to the tracking server, we’ll need to use the uri that we assigned the server when we started it.\n",
    "\n",
    "client = MlflowClient(tracking_uri=\"http://127.0.0.1:8080\")\n",
    "\n",
    "#it allows programmatic interaction with the MLflow tracking server."
   ]
  },
  {
   "cell_type": "code",
   "execution_count": null,
   "metadata": {},
   "outputs": [
    {
     "name": "stdout",
     "output_type": "stream",
     "text": [
      "Deleting existing experiment with ID: 248685807844681205\n",
      "Experiment 'Bankrupt_Model' is now marked as deleted.\n"
     ]
    }
   ],
   "source": []
  },
  {
   "cell_type": "code",
   "execution_count": 24,
   "metadata": {},
   "outputs": [
    {
     "name": "stdout",
     "output_type": "stream",
     "text": [
      "{'_experiment_id': '759386245684293040', '_name': 'Bankrupt_Model', '_artifact_location': 'mlflow-artifacts:/759386245684293040', '_lifecycle_stage': 'active', '_tags': {'mlflow.note.content': 'This is the bankrupt prediction project. This experiment contains models for predicting company bankruptcy.', 'project_name': 'bankruptcy-prediction', 'project_quarter': 'Q1-2025', 'sector': 'finance', 'team': 'risk-analysis'}, '_creation_time': 1742986077652, '_last_update_time': 1742986077652}\n"
     ]
    }
   ],
   "source": [
    " #Description de l'expérience\n",
    "experiment_description = (\n",
    "    \"This is the bankrupt prediction project. \"\n",
    "    \"This experiment contains models for predicting company bankruptcy.\"\n",
    ")\n",
    "\n",
    "# Tags associés à l'expérience\n",
    "experiment_tags = {\n",
    "    \"project_name\": \"bankruptcy-prediction\",\n",
    "    \"sector\": \"finance\",\n",
    "    \"team\": \"risk-analysis\",\n",
    "    \"project_quarter\": \"Q1-2025\",\n",
    "    \"mlflow.note.content\": experiment_description,\n",
    "}\n",
    "\n",
    "# Création de l'expérience avec un nom unique\n",
    "bankrupt_experiment = mlflow.create_experiment(\n",
    "    name=\"Bankrupt_Model\", tags=experiment_tags\n",
    ")\n",
    "\n",
    "# Recherche d'expériences associées au projet \"bankruptcy-prediction\"\n",
    "bank_experiments = mlflow.search_experiments(\n",
    "    filter_string=\"tags.project_name = 'bankruptcy-prediction'\"\n",
    ")\n",
    "\n",
    "# Affichage des métadonnées de l'expérience\n",
    "print(vars(bank_experiments[0]))\n",
    "\n",
    "# Définition de l'expérience active pour les futurs runs\n",
    "mlflow.set_experiment(\"Bankrupt_Model\")\n",
    "\n",
    "# Définition du nom du run et du chemin pour sauvegarder le modèle\n",
    "run_name = \"bankrupt_model_test\"\n",
    "artifact_path = \"bankrupt_model\"\n",
    "\n",
    "\n",
    "\n"
   ]
  },
  {
   "cell_type": "code",
   "execution_count": 25,
   "metadata": {},
   "outputs": [],
   "source": [
    "import mlflow\n",
    "mlflow.set_tracking_uri(\"http://127.0.0.1:8080\")\n"
   ]
  },
  {
   "cell_type": "code",
   "execution_count": 26,
   "metadata": {},
   "outputs": [],
   "source": [
    "\n",
    "import pandas as pd \n",
    "import numpy as np \n",
    "import gzip\n",
    "import json\n",
    "import pickle\n",
    "import re\n",
    "import plotly.express as px\n",
    "import matplotlib.pyplot as plt\n",
    "from sklearn.pipeline import make_pipeline\n",
    "from sklearn.impute import SimpleImputer\n",
    "from sklearn.tree import DecisionTreeClassifier\n",
    "from sklearn.metrics import ConfusionMatrixDisplay\n",
    "from sklearn.model_selection import train_test_split\n",
    "from sklearn.metrics import classification_report, confusion_matrix\n",
    "import seaborn as sns\n",
    "from sklearn.metrics import classification_report, accuracy_score, precision_score, recall_score, f1_score\n",
    "from sklearn.ensemble import RandomForestClassifier\n",
    "from sklearn.ensemble import GradientBoostingClassifier\n",
    "from sklearn.model_selection import GridSearchCV, cross_val_score, train_test_split\n",
    "import arff\n",
    "import pandas as pd\n",
    "import os"
   ]
  },
  {
   "cell_type": "code",
   "execution_count": 27,
   "metadata": {},
   "outputs": [],
   "source": [
    "def wrangle(filepath):\n",
    "    with open(filepath, 'r') as file:\n",
    "        data = arff.load(file)\n",
    "    \n",
    "    df = pd.DataFrame(data['data'], columns=[attr[0] for attr in data['attributes']])\n",
    "    \n",
    "    df.columns = [re.sub(pattern='Attr',repl='feat_',string=col) for col in df.columns]\n",
    "    df.rename(columns={'class':'bankrupt'},inplace=True)\n",
    "    \n",
    "    # Change dtype of the Labels columns\n",
    "    df['bankrupt'] = df['bankrupt'].astype(np.int64)\n",
    "    df['status'] = df['bankrupt'].apply(lambda x: \"The company in bankrupt\" if x == 1 else \"The company is safe\")\n",
    "\n",
    "    # column is the most missing value\n",
    "    df.drop(columns='feat_37',inplace=True)\n",
    "    return df\n",
    "\n",
    "url = \"data/poland.arff\"\n",
    "\n",
    "df = wrangle(url)\n"
   ]
  },
  {
   "cell_type": "code",
   "execution_count": null,
   "metadata": {},
   "outputs": [],
   "source": []
  },
  {
   "cell_type": "code",
   "execution_count": 28,
   "metadata": {},
   "outputs": [
    {
     "name": "stdout",
     "output_type": "stream",
     "text": [
      "X shape: (7027, 63)\n",
      "y shape: (7027,)\n"
     ]
    }
   ],
   "source": [
    "# DIVISION DES DONNEES\n",
    "\n",
    "target = \"bankrupt\"\n",
    "X = df.select_dtypes(include= \"float64\")\n",
    "y = df[target]\n",
    "\n",
    "print(\"X shape:\", X.shape)\n",
    "print(\"y shape:\", y.shape)\n",
    "\n",
    "X_train, X_test, y_train, y_test = train_test_split(\n",
    "    X, y, test_size=0.2, random_state=42\n",
    ")"
   ]
  },
  {
   "cell_type": "code",
   "execution_count": 29,
   "metadata": {},
   "outputs": [
    {
     "name": "stdout",
     "output_type": "stream",
     "text": [
      "Decision Tree - Accuracy: 0.9474, Precision: 0.3544, Recall: 0.5490, F1-score: 0.4308\n"
     ]
    },
    {
     "name": "stderr",
     "output_type": "stream",
     "text": [
      "2025/03/26 11:49:10 WARNING mlflow.models.model: Model logged without a signature and input example. Please set `input_example` parameter when logging the model to auto infer the model signature.\n"
     ]
    },
    {
     "name": "stdout",
     "output_type": "stream",
     "text": [
      "🏃 View run Decision_Tree at: http://127.0.0.1:8080/#/experiments/759386245684293040/runs/f634764714bb4ba29c9969fd4bafd3eb\n",
      "🧪 View experiment at: http://127.0.0.1:8080/#/experiments/759386245684293040\n"
     ]
    }
   ],
   "source": [
    "# Définir le modèle\n",
    "\n",
    "\n",
    "model_reg = make_pipeline(\n",
    "    SimpleImputer(strategy=\"median\"),\n",
    "    DecisionTreeClassifier(random_state=42)\n",
    ")\n",
    "\n",
    "# Entraîner le modèle\n",
    "model_reg.fit(X_train, y_train)\n",
    "\n",
    "# Prédictions\n",
    "y_pred = model_reg.predict(X_test)\n",
    "\n",
    "# Calcul des métriques\n",
    "accuracy = accuracy_score(y_test, y_pred)\n",
    "precision = precision_score(y_test, y_pred)\n",
    "recall = recall_score(y_test, y_pred)\n",
    "f1 = f1_score(y_test, y_pred)\n",
    "\n",
    "# Affichage des résultats\n",
    "print(f\"Decision Tree - Accuracy: {accuracy:.4f}, Precision: {precision:.4f}, Recall: {recall:.4f}, F1-score: {f1:.4f}\")\n",
    "\n",
    "# Enregistrement avec MLflow\n",
    "with mlflow.start_run(run_name=\"Decision_Tree\"):\n",
    "    mlflow.log_param(\"imputer_strategy\", \"median\")\n",
    "    mlflow.log_metric(\"accuracy\", accuracy)\n",
    "    mlflow.log_metric(\"precision\", precision)\n",
    "    mlflow.log_metric(\"recall\", recall)\n",
    "    mlflow.log_metric(\"f1_score\", f1)\n",
    "    mlflow.sklearn.log_model(model_reg, \"decision_tree_model\")\n"
   ]
  },
  {
   "cell_type": "code",
   "execution_count": 30,
   "metadata": {},
   "outputs": [
    {
     "name": "stdout",
     "output_type": "stream",
     "text": [
      "Fitting 5 folds for each of 24 candidates, totalling 120 fits\n",
      "Random Forest - Accuracy: 0.9822, Precision: 0.9643, Recall: 0.5294, F1-score: 0.6835\n"
     ]
    },
    {
     "name": "stderr",
     "output_type": "stream",
     "text": [
      "2025/03/26 11:50:43 WARNING mlflow.models.model: Model logged without a signature and input example. Please set `input_example` parameter when logging the model to auto infer the model signature.\n"
     ]
    },
    {
     "name": "stdout",
     "output_type": "stream",
     "text": [
      "🏃 View run Random_Forest at: http://127.0.0.1:8080/#/experiments/759386245684293040/runs/6503661835ab4e04988433ef96f17cc2\n",
      "🧪 View experiment at: http://127.0.0.1:8080/#/experiments/759386245684293040\n"
     ]
    }
   ],
   "source": [
    "clf = make_pipeline(\n",
    "    SimpleImputer(),\n",
    "    RandomForestClassifier(random_state=42)\n",
    ")\n",
    "\n",
    "params = {\n",
    "    \"simpleimputer__strategy\": [\"mean\", \"median\"],\n",
    "    \"randomforestclassifier__n_estimators\": range(25, 100, 25),\n",
    "    \"randomforestclassifier__max_depth\": range(10, 50, 10)\n",
    "}\n",
    "\n",
    "# GridSearchCV pour optimiser les hyperparamètres\n",
    "model = GridSearchCV(clf, param_grid=params, cv=5, n_jobs=-1, verbose=1)\n",
    "\n",
    "# Entraînement\n",
    "model.fit(X_train, y_train)\n",
    "\n",
    "# Meilleurs hyperparamètres trouvés\n",
    "best_params = model.best_params_\n",
    "\n",
    "# Prédictions\n",
    "y_pred = model.predict(X_test)\n",
    "\n",
    "# Calcul des métriques\n",
    "accuracy = accuracy_score(y_test, y_pred)\n",
    "precision = precision_score(y_test, y_pred)\n",
    "recall = recall_score(y_test, y_pred)\n",
    "f1 = f1_score(y_test, y_pred)\n",
    "\n",
    "# Affichage\n",
    "print(f\"Random Forest - Accuracy: {accuracy:.4f}, Precision: {precision:.4f}, Recall: {recall:.4f}, F1-score: {f1:.4f}\")\n",
    "\n",
    "# Enregistrement avec MLflow\n",
    "with mlflow.start_run(run_name=\"Random_Forest\"):\n",
    "    mlflow.log_params(best_params)  # Enregistrer les meilleurs hyperparamètres\n",
    "    mlflow.log_metric(\"accuracy\", accuracy)\n",
    "    mlflow.log_metric(\"precision\", precision)\n",
    "    mlflow.log_metric(\"recall\", recall)\n",
    "    mlflow.log_metric(\"f1_score\", f1)\n",
    "    mlflow.sklearn.log_model(model.best_estimator_, \"random_forest_model\")\n"
   ]
  },
  {
   "cell_type": "code",
   "execution_count": null,
   "metadata": {},
   "outputs": [],
   "source": []
  },
  {
   "cell_type": "code",
   "execution_count": 31,
   "metadata": {},
   "outputs": [
    {
     "name": "stdout",
     "output_type": "stream",
     "text": [
      "Fitting 5 folds for each of 18 candidates, totalling 90 fits\n",
      "Gradient Boosting - Accuracy: 0.9829, Precision: 0.9355, Recall: 0.5686, F1-score: 0.7073\n"
     ]
    },
    {
     "name": "stderr",
     "output_type": "stream",
     "text": [
      "2025/03/26 11:55:16 WARNING mlflow.models.model: Model logged without a signature and input example. Please set `input_example` parameter when logging the model to auto infer the model signature.\n"
     ]
    },
    {
     "name": "stdout",
     "output_type": "stream",
     "text": [
      "🏃 View run Gradient_Boosting at: http://127.0.0.1:8080/#/experiments/759386245684293040/runs/8e602661df574319877ec7b3380b0d65\n",
      "🧪 View experiment at: http://127.0.0.1:8080/#/experiments/759386245684293040\n"
     ]
    }
   ],
   "source": [
    "clf = make_pipeline(SimpleImputer(), GradientBoostingClassifier())\n",
    "\n",
    "params = {\n",
    "    \"simpleimputer__strategy\": [\"mean\", \"median\"], \n",
    "    \"gradientboostingclassifier__n_estimators\": range(20, 31, 5),\n",
    "    \"gradientboostingclassifier__max_depth\": range(2, 5)\n",
    "}\n",
    "\n",
    "model = GridSearchCV(clf, param_grid=params, cv=5, n_jobs=-1, verbose=1)\n",
    "\n",
    "# Entraîner le modèle (suréchantillonné si nécessaire)\n",
    "model.fit(X_train, y_train)\n",
    "\n",
    "# Meilleurs hyperparamètres\n",
    "best_params = model.best_params_\n",
    "\n",
    "# Prédictions\n",
    "y_pred = model.predict(X_test)\n",
    "\n",
    "# Calcul des métriques\n",
    "accuracy = accuracy_score(y_test, y_pred)\n",
    "precision = precision_score(y_test, y_pred)\n",
    "recall = recall_score(y_test, y_pred)\n",
    "f1 = f1_score(y_test, y_pred)\n",
    "\n",
    "# Affichage\n",
    "print(f\"Gradient Boosting - Accuracy: {accuracy:.4f}, Precision: {precision:.4f}, Recall: {recall:.4f}, F1-score: {f1:.4f}\")\n",
    "\n",
    "# Enregistrement avec MLflow\n",
    "with mlflow.start_run(run_name=\"Gradient_Boosting\"):\n",
    "    mlflow.log_params(best_params)\n",
    "    mlflow.log_metric(\"accuracy\", accuracy)\n",
    "    mlflow.log_metric(\"precision\", precision)\n",
    "    mlflow.log_metric(\"recall\", recall)\n",
    "    mlflow.log_metric(\"f1_score\", f1)\n",
    "    mlflow.sklearn.log_model(model.best_estimator_, \"gradient_boosting_model\")\n"
   ]
  }
 ],
 "metadata": {
  "kernelspec": {
   "display_name": "ganf",
   "language": "python",
   "name": "python3"
  },
  "language_info": {
   "codemirror_mode": {
    "name": "ipython",
    "version": 3
   },
   "file_extension": ".py",
   "mimetype": "text/x-python",
   "name": "python",
   "nbconvert_exporter": "python",
   "pygments_lexer": "ipython3",
   "version": "3.9.6"
  }
 },
 "nbformat": 4,
 "nbformat_minor": 2
}
